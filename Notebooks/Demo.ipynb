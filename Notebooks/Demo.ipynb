{
 "cells": [
  {
   "cell_type": "markdown",
   "id": "83a53148",
   "metadata": {},
   "source": [
    "    Still Working On : \n",
    "    - Information\n",
    "    - Reminder\n",
    "    - Play Podcast"
   ]
  },
  {
   "cell_type": "code",
   "execution_count": 1,
   "id": "cbee908e",
   "metadata": {
    "scrolled": true
   },
   "outputs": [
    {
     "name": "stdout",
     "output_type": "stream",
     "text": [
      "pygame 2.1.2 (SDL 2.0.18, Python 3.9.7)\n",
      "Hello from the pygame community. https://www.pygame.org/contribute.html\n"
     ]
    }
   ],
   "source": [
    "import sys\n",
    "from pathlib import Path\n",
    "\n",
    "# in jupyter (lab / notebook), based on notebook path\n",
    "module_path = str(Path.cwd().parents[0] / \"GP\\\\utils\")\n",
    "\n",
    "if module_path not in sys.path:\n",
    "    sys.path.append(module_path)\n",
    "\n",
    "from Natural_Language_Understanding import NLU\n",
    "import Weather\n",
    "import Kitchen\n",
    "import Social\n",
    "import Enterainment\n",
    "import News\n",
    "#import IOT\n",
    "from TTS import speak\n",
    "import speech_recognition as sr\n",
    "import time"
   ]
  },
  {
   "cell_type": "code",
   "execution_count": 2,
   "id": "a64307d2",
   "metadata": {},
   "outputs": [
    {
     "data": {
      "text/plain": [
       "{'Intent': 'Iot', 'Entities': {'action': 'open', 'device': 'the door'}}"
      ]
     },
     "execution_count": 2,
     "metadata": {},
     "output_type": "execute_result"
    }
   ],
   "source": [
    "NLU('open the door')"
   ]
  },
  {
   "cell_type": "markdown",
   "id": "96210719",
   "metadata": {},
   "source": [
    "### Mapping"
   ]
  },
  {
   "cell_type": "markdown",
   "id": "937f28cf",
   "metadata": {},
   "source": [
    "  * Weather\n",
    "  * Social\n",
    "  * Entertainment\n",
    "  * Cooking\n",
    "  * News\n",
    "  * Smart Home"
   ]
  },
  {
   "cell_type": "code",
   "execution_count": null,
   "id": "ffd734f3",
   "metadata": {},
   "outputs": [],
   "source": [
    "ans = NLU('tell me about the latest news in business')\n",
    "\n",
    "News.news(ans)"
   ]
  },
  {
   "cell_type": "code",
   "execution_count": null,
   "id": "71754757",
   "metadata": {},
   "outputs": [],
   "source": [
    "ans"
   ]
  },
  {
   "cell_type": "code",
   "execution_count": null,
   "id": "d2bb8ecb",
   "metadata": {
    "scrolled": false
   },
   "outputs": [],
   "source": [
    "mappings = {'Greeting' : Social.greet,\n",
    "            'Goodbye'  : Social.goodbye,\n",
    "            'Thanks'   : Social.thank,\n",
    "            'Joke'     : Enterainment.joke,\n",
    "            'PlayMusic': Enterainment.play_music,\n",
    "            'Cooking'  : Kitchen.cooking,\n",
    "            'Weather'  : Weather.weather,\n",
    "            'News'     : News.news}\n",
    "\n",
    "\n",
    "\n",
    "\n",
    "recognizer = sr.Recognizer()\n",
    "while True:\n",
    "    try:\n",
    "        # obtain audio from the microphone by remove noise\n",
    "        with sr.Microphone() as source:\n",
    "            print(\"Say something!\")\n",
    "            recognizer.adjust_for_ambient_noise(source, duration=0.2)\n",
    "            audio = recognizer.listen(source)\n",
    "\n",
    "            # recognize speech using Google Speech Recognition\n",
    "            message = recognizer.recognize_google(audio)\n",
    "\n",
    "        print(message)\n",
    "\n",
    "        res = NLU(message)\n",
    "        result = str(mappings[res['Intent']](res))\n",
    "        \n",
    "        if res['Intent'] in [\"Goodbye\", \"Thanks\"]:\n",
    "            break\n",
    "        \n",
    "        speak(result)\n",
    "        time.sleep(10)\n",
    "\n",
    "\n",
    "            \n",
    "    except sr.UnknownValueError:\n",
    "        print(\"Google Speech Recognition could not understand audio\")"
   ]
  },
  {
   "cell_type": "markdown",
   "id": "08e9b96c",
   "metadata": {},
   "source": [
    "# Info Request"
   ]
  },
  {
   "cell_type": "code",
   "execution_count": null,
   "id": "22dbe4e7",
   "metadata": {},
   "outputs": [],
   "source": [
    "import requests\n",
    "import wikipedia\n",
    "from bs4 import BeautifulSoup"
   ]
  },
  {
   "cell_type": "code",
   "execution_count": null,
   "id": "26d47cd5",
   "metadata": {},
   "outputs": [],
   "source": [
    "result = NLU('')"
   ]
  },
  {
   "cell_type": "markdown",
   "id": "853e38c3",
   "metadata": {},
   "source": [
    "#### To get information such as (Topic Definition , Topic Summary)"
   ]
  },
  {
   "cell_type": "code",
   "execution_count": null,
   "id": "5fa28fba",
   "metadata": {},
   "outputs": [],
   "source": [
    "result = NLU('')"
   ]
  },
  {
   "cell_type": "code",
   "execution_count": null,
   "id": "9390b374",
   "metadata": {},
   "outputs": [],
   "source": [
    "if result['Intent'] == 'Info_Request' and 'topic' in result['Entities']:\n",
    "    searchtext = result['Entities']['topic']\n",
    "    url = 'https://www.dictionary.com/browse/'\n",
    "    headers = requests.utils.default_headers()\n",
    "    headers.update({\n",
    "        'User-Agent':\n",
    "        'Mozilla/5.0 (Windows NT 10.0; Win64; x64) AppleWebKit/537.36 (KHTML, like Gecko) Chrome/83.0.4103.97 Safari/537.36'\n",
    "    })\n",
    "    wikistr = wikipedia.summary(searchtext, sentences=3)\n",
    "    index = wikistr.find(searchtext)\n",
    "    if (index != -1):\n",
    "        wikidef = wikipedia.summary(searchtext, sentences=3)\n",
    "        print(wikidef)\n",
    "    else:\n",
    "        req = requests.get(url + searchtext, headers)\n",
    "        soup = BeautifulSoup(req.content, 'html.parser')\n",
    "\n",
    "        mydivs = soup.findAll(\"div\", {\"value\": \"1\"})[0]\n",
    "\n",
    "        for tags in mydivs:\n",
    "            meaning = tags.text\n",
    "        print(meaning)"
   ]
  },
  {
   "cell_type": "markdown",
   "id": "367dbbb6",
   "metadata": {},
   "source": [
    "#### To get answers for the questions"
   ]
  },
  {
   "cell_type": "code",
   "execution_count": null,
   "id": "5fbe444a",
   "metadata": {},
   "outputs": [],
   "source": [
    "import wolframalpha\n",
    "\n",
    "def info(text):\n",
    "    \n",
    "    # Taking input from user\n",
    "    question = text\n",
    "\n",
    "    #id obtained by the above steps\n",
    "    Id = 'GQLHYV-3UTAKGPWQT'\n",
    "\n",
    "    # Instance of wolframalpha client class\n",
    "    client = wolframalpha.Client(Id)\n",
    "\n",
    "    # Stores the response from wolframalpha\n",
    "    res = client.query(question)\n",
    "\n",
    "    # Includes only text from the response\n",
    "    answer = next(res.results).text\n",
    "\n",
    "    return answer\n"
   ]
  },
  {
   "cell_type": "code",
   "execution_count": null,
   "id": "c6e04832",
   "metadata": {
    "scrolled": true
   },
   "outputs": [],
   "source": [
    "info(\"who is william shakespeare\")"
   ]
  },
  {
   "cell_type": "markdown",
   "id": "690c08dd",
   "metadata": {},
   "source": [
    "# Time"
   ]
  },
  {
   "cell_type": "code",
   "execution_count": null,
   "id": "39b9e606",
   "metadata": {},
   "outputs": [],
   "source": [
    "from datetime import datetime\n",
    "import time"
   ]
  },
  {
   "cell_type": "code",
   "execution_count": null,
   "id": "153b3be0",
   "metadata": {},
   "outputs": [],
   "source": [
    "text = stt()\n",
    "text"
   ]
  },
  {
   "cell_type": "code",
   "execution_count": null,
   "id": "92a3f5b4",
   "metadata": {},
   "outputs": [],
   "source": [
    "result = NLU(text)"
   ]
  },
  {
   "cell_type": "code",
   "execution_count": null,
   "id": "d9a04f70",
   "metadata": {},
   "outputs": [],
   "source": [
    "if result['Intent'] == \"Time\":\n",
    "    res = datetime.now().strftime(\"%H:%M\")\n",
    "    speak(res)"
   ]
  },
  {
   "cell_type": "markdown",
   "id": "da066c5b",
   "metadata": {},
   "source": [
    "#### If it requires the current time in different timezone"
   ]
  },
  {
   "cell_type": "code",
   "execution_count": null,
   "id": "0b64d08a",
   "metadata": {},
   "outputs": [],
   "source": [
    "from datetime import datetime\n",
    "import pytz\n",
    "\n",
    "tz = pytz.timezone('Africa/Cairo') \n",
    "time = datetime.now(tz)\n",
    "print(\"Cairo time:\", time.strftime(\"%H:%M\"))\n",
    "\n",
    "tz_London = pytz.timezone('Europe/London')\n",
    "datetime_London = datetime.now(tz_London)\n",
    "print(\"London time:\", datetime_London.strftime(\"%H:%M\"))"
   ]
  },
  {
   "cell_type": "markdown",
   "id": "d7dfc6b5",
   "metadata": {},
   "source": [
    "# Date"
   ]
  },
  {
   "cell_type": "code",
   "execution_count": null,
   "id": "dc57fd7f",
   "metadata": {},
   "outputs": [],
   "source": [
    "text = stt()\n",
    "text"
   ]
  },
  {
   "cell_type": "code",
   "execution_count": null,
   "id": "35ee1895",
   "metadata": {},
   "outputs": [],
   "source": [
    "result = NLU(text)"
   ]
  },
  {
   "cell_type": "code",
   "execution_count": null,
   "id": "2edc291c",
   "metadata": {},
   "outputs": [],
   "source": [
    "if result['Intent'] == \"Date\":\n",
    "    res = datetime.now().strftime(\"%B %d, %Y\")\n",
    "    speak(res)"
   ]
  },
  {
   "cell_type": "markdown",
   "id": "157e2cde",
   "metadata": {},
   "source": [
    "#### Productivity\n",
    "    Ask Time  >>>    Done\n",
    "    Ask Date  >>>    Done\n",
    "    Reminder  >>>    ....  "
   ]
  },
  {
   "cell_type": "markdown",
   "id": "15696520",
   "metadata": {},
   "source": [
    "#### Entertainment\n",
    "    Play Music   >>>   Done\n",
    "    Play Podcast >>>   ....\n",
    "    Joke         >>>   Done  "
   ]
  },
  {
   "cell_type": "code",
   "execution_count": null,
   "id": "3fbcec55",
   "metadata": {},
   "outputs": [],
   "source": [
    "! pip install Mopidy-Podcast"
   ]
  },
  {
   "cell_type": "code",
   "execution_count": 15,
   "id": "1e39937d",
   "metadata": {},
   "outputs": [
    {
     "data": {
      "text/plain": [
       "('put the heater at thirty three degrees celsius', {'entities': [(18, 38)]})"
      ]
     },
     "execution_count": 15,
     "metadata": {},
     "output_type": "execute_result"
    }
   ],
   "source": [
    "def built_ner(text, target):\n",
    "    start = str.find(text, target)\n",
    "    end = start + len(target)\n",
    "    \n",
    "    return (text, {\"entities\": [(start, end)]})\n",
    "\n",
    "#train_data.append(built_ner(text,target,type))\n",
    "built_ner(\"put the heater at thirty three degrees celsius\", \"thirty three degrees\")"
   ]
  },
  {
   "cell_type": "markdown",
   "id": "07cf2f7a",
   "metadata": {},
   "source": [
    "#### Requirements "
   ]
  },
  {
   "cell_type": "markdown",
   "id": "64911989",
   "metadata": {},
   "source": [
    "* tensorflow\n",
    "* keras\n",
    "* pandas\n",
    "* numpy\n",
    "* re\n",
    "* requests\n",
    "* wikipedia\n",
    "* spacy\n",
    "* ymal\n",
    "* ibm-Watson\n",
    "* speech recognition\n",
    "* pygame\n",
    "* pipwin\n",
    "* pyAudio\n",
    "* pyjokes\n",
    "* beautifulsoup\n",
    "* pywhatkit\n",
    "* flask\n",
    "* lxml "
   ]
  },
  {
   "cell_type": "markdown",
   "id": "3944c5ad",
   "metadata": {},
   "source": [
    "________________________________________________________"
   ]
  }
 ],
 "metadata": {
  "interpreter": {
   "hash": "86725531a27c656369adc9e820b5111a81bf71344e24f16b86b0bfd7cff63833"
  },
  "kernelspec": {
   "display_name": "Python 3 (ipykernel)",
   "language": "python",
   "name": "python3"
  },
  "language_info": {
   "codemirror_mode": {
    "name": "ipython",
    "version": 3
   },
   "file_extension": ".py",
   "mimetype": "text/x-python",
   "name": "python",
   "nbconvert_exporter": "python",
   "pygments_lexer": "ipython3",
   "version": "3.9.7"
  }
 },
 "nbformat": 4,
 "nbformat_minor": 5
}
